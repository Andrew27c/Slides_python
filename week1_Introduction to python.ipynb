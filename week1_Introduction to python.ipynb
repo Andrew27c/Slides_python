{
 "cells": [
  {
   "attachments": {},
   "cell_type": "markdown",
   "metadata": {},
   "source": [
    "# Introduction to python\n",
    "\n",
    "In this chapter, you’ll find out about how to get the basic tools you need to code set up on your own computer and become familiar with basic data types."
   ]
  },
  {
   "attachments": {},
   "cell_type": "markdown",
   "metadata": {},
   "source": [
    "## Computational environment"
   ]
  },
  {
   "attachments": {},
   "cell_type": "markdown",
   "metadata": {},
   "source": [
    "### Operating system\n",
    "\n",
    "Almost all of the code you'll see can be run on all three of the major operating systems: Windows, MacOS, and Linux, as well as in free online notebooks provided by Google (this service is called Google Colab).\n",
    "\n",
    "If you haven't yet decided which operating system to use, this book recommends either Linux or MacOS because, in a very small number of cases, you'll find it easier to run the most advanced code on them rather than on Windows. Don't panic if you have Windows already though-most things will work just fine and it tends to be power users who run into this problem. (If you're not familiar with Linux, it's a free operating system that is also widely used for cloud services and, while it used to  have a reputation as being fearsomely difficult for beginners, some modern Linux distributions, such as Ubuntu, are pretty user-friendly.)\n",
    "\n",
    "If you have Windows and you want to use Linux or Mac but don't want to shell out for a new computer, there are a couple of options. One is to use the [*Windows Subsystem for Linux*](https://pbpython.com/wsl-python.html). It's essentially a Linux operating system that installs alongside and integrates with your existing Windows operating system. This allows you to run code as if you were using Linux. You can get WSL [for free from Microsoft](https://docs.microsoft.com/en-us/windows/wsl/install-win10) (the fact that Microsoft has included this feature speaks to the demand for it). Another option is to use [Github Codespaces](https://github.com/features/codespaces), which gives cheap (but not free) access to a pre-built Linux machine in the cloud. A further option is [Gitpod](https://www.gitpod.io/), which is like Codespaces but has a generous free tier.\n",
    "\n"
   ]
  },
  {
   "attachments": {},
   "cell_type": "markdown",
   "metadata": {},
   "source": [
    "### Choice of Programming Language\n",
    "\n",
    "We use Python, which is usually ranked as the first or second most popular programming language in the world and, just as importantly, it's also one of the easiest to learn. It's a general purpose language, which means it can perform a wide range of tasks. This combination of features is why people say Python has a low floor and a high ceiling. It's also very versatile; the joke goes that Python is the 2nd best language at everything, and there's some truth to that (although Python is 1st best at some tasks, like machine learning). But a language that covers such a lot of ground is also very useful; and Python is widely used across industry, academia, and the public sector, and is often taught in school computer science classes too. Python is the main 'dynamic' language used at [Google](https://google.github.io/styleguide/pyguide.html) and the [most demanded language](https://insights.dice.com/2020/12/01/7-programming-languages-popular-at-apple-that-could-land-you-a-job/) in jobs for Apple. It is used for everything from computer games to websites, data science to software applications: it's even being used to help [fly a helicopter on Mars](https://github.com/nasa/fprime). As a student majoring in economics, you will know that this means Python benefits from strong positive network externalities. As such, learning Python has a lot of value and, once you have, learning more specialised languages like C++ or R is much easier; many of the basic programming concepts you'll see in this book are useful in almost any programming language. One other benefit of Python if you plan to do any work on the cloud is that it is extremely well supported.\n",
    "\n",
    "![xkcd-python](https://imgs.xkcd.com/comics/python.png)\n",
    "\n",
    "*Python*, from [xkcd](https://xkcd.com).\n",
    "\n",
    "Different languages have different strengths and weaknesses. Python and Julia are so-called high-level languages that are easier to write code in. C++ and Fortran are more low-level languages and much more fussy and labour-intensive to write code in; but, once the code is written (and 'compiled'), it runs *fast*.\n",
    "\n",
    "Another big difference between languages is the extent to which users have created software that extends the base functionality of the language. The ecosystem of other users, and what they're using the language for, is really important for determining how useful a language is. For example, Python and R have vibrant data science communities producing extensions (called libraries or packages) that are what really make those languages so useful for data science (far more than the base functionality of either).\n",
    "\n",
    "Programming languages come in versions, which can be quite different, and some of the most important functionality of programming languages is provided by add-ons called packages or libraries, which themselves have versions. To make matters worse, not all versions of packages and languages will work together, and the combinations that work may depend on your operating system (Windows, Mac, etc)!\n",
    "\n",
    "The combination of the language and its version (eg Python 3.8), the packages and their versions (eg numpy 1.19), and the operating system the code is being run on (eg MacOS Catalina) is called the computational environment. We use Python 3.8.\n",
    "\n",
    "To programme, you will need two things on your computer:\n",
    "\n",
    "- an installation of the programming language (also known as the \"interpreter\"), for example Python 3.8\n",
    "\n",
    "- a way to write and run your code, using an integrated development environment (IDE), for example Visual Studio Code"
   ]
  },
  {
   "attachments": {},
   "cell_type": "markdown",
   "metadata": {},
   "source": [
    "### Installing Python On Your Computer\n",
    "\n",
    "The Anaconda distribution of Python, which we recommends, is available on all major operating systems. To install it, follow the instructions below or watch the video.\n",
    "\n",
    "<iframe width=\"700\" height=\"394\" src=\"https://www.youtube.com/embed/ZWQwGR5ppnk\" title=\"YouTube video player\" frameborder=\"0\" allow=\"accelerometer; autoplay; clipboard-write; encrypted-media; gyroscope; picture-in-picture\" allowfullscreen></iframe>\n",
    "\n",
    "*[How to install Python using the Anaconda distribution of Python](https://www.youtube.com/watch?v=ZWQwGR5ppnk)*\n",
    "\n",
    "*[The installtion and common commands of Anaconda](https://www.bilibili.com/video/BV1pU4y1m75t/?spm_id_from=333.337.search-card.all.click)*\n",
    "\n",
    "Download the individual edition of the [Anaconda distribution](https://www.anaconda.com/) of Python for your operating system and install it (on Anaconda's website, this is currently found under Products -> Individual Edition). This will provide you with a Python installation and a host of the most useful libraries. If you get stuck, there are more detailed instructions available for installing the Anaconda distribution of Python [on Windows](https://docs.anaconda.com/anaconda/install/windows/), [on Mac](https://docs.anaconda.com/anaconda/install/mac-os/), and [on Linux](https://docs.anaconda.com/anaconda/install/linux/).\n",
    "\n",
    "You can confirm that you've set up Anaconda correctly by following the [verify installation instructions](https://docs.anaconda.com/anaconda/install/verify-install/) on the Anaconda website. If you're using Windows, you can check if Anaconda has installed properly by opening the 'Anaconda prompt' (a special text-based way to issue commands to your computer) and type `where python`. You should see a path rendered as text in the prompt that includes \"Anaconda3\", for example something like `C:\\Users\\<your-username>\\Anaconda3\\...`. On Mac and Linux you may need to run `conda init` on your command line to activate your Anaconda Python environment (Mac and Linux usually come with, typically, old versions of Python pre-installed). You can check you've got the right Python with `which python`, which should result in a message back saying `/Users/<your-username>/opt/anaconda3/bin/python`. "
   ]
  },
  {
   "attachments": {},
   "cell_type": "markdown",
   "metadata": {},
   "source": [
    "### Installing an integrated development environment (IDE)\n",
    "\n",
    "An integrated development environment is a software application that provides a few tools to make coding easier. The most important of these is a way to write the code itself! IDEs are not the only way to programme, but they are perhaps the most useful. If you have used **Stata** or **Matlab**, you may not have realised it, but these package up the language and the IDE together. But they are separate things: the language is a way of processing your instructions, the IDE is where you write those instructions.\n",
    "\n",
    "Here are some of the useful features an IDE might have:\n",
    "\n",
    "- a way to run your code interactively (line-by-line) or all at once\n",
    "\n",
    "- a way to debug (look for errors) in your code\n",
    "\n",
    "- a quick way to access helpful information about commonly used software packages\n",
    "\n",
    "- automatic code formatting, so that your code follows best practice guidelines\n",
    "\n",
    "- auto-completion of your code\n",
    "\n",
    "- automatic code checking for basic errors\n",
    "\n",
    "- colouring your brackets in pairs so you can keep track of the logical order of execution of your code!\n",
    "\n",
    "People have strong feelings about which IDE they prefer. We strongly recommends [Visual Studio Code](https://code.visualstudio.com/), a free and open source IDE from Microsoft that is available on all major operating systems. Just like Python itself, Visual Studio can be extended with packages, and it is those packages, called extensions in this case, that make it so useful. As well as Python, Visual Studio Code supports a ton of other languages.\n",
    "\n",
    "Visual Studio Code supports coding in both scripts and Jupyter Notebooks. While scripts mostly contain code (and have file extension `.py`), notebooks can contain text and code in different blocks called cells. 'Jupyter Notebooks' have the file extension '.ipynb'. The name, 'Jupyter', is a reference to the three original languages supported by Jupyter, which are Julia, Python, and R, and to Galileo's notebooks recording the discovery of the moons of Jupiter. Jupyter notebooks now support a vast number of languages beyond the original three, including Ruby, Haskell, Go, Scala, Octave, Java, and [more](https://github.com/jupyter/jupyter/wiki/Jupyter-kernels). There'll be more about the difference between scripts and notebooks later on in the book.\n",
    "\n",
    "Another IDE that you might find useful from time to time is [Jupyter Lab](https://jupyter.org/), which runs in a browser window; for now, we'll keep our focus on Visual Studio Code.\n",
    "\n",
    "Download and install Visual Studio Code. If you need some help, the video below will walk you through downloading and installing Visual Studio Code, and then using it to run Python code in both scripts and in notebooks. We'll go through these instructions in detail in the rest of this chapter. As an alternative to the instructions or video below, Microsoft also has a [very short tutorial](https://code.visualstudio.com/docs/python/python-tutorial) on setting it up (ignore the bits about debugging and installing packages for now).\n",
    "\n",
    "<iframe width=\"700\" height=\"394\" src=\"https://www.youtube.com/embed/1kKTYsQdaPw\" title=\"YouTube video player\" frameborder=\"0\" allow=\"accelerometer; autoplay; clipboard-write; encrypted-media; gyroscope; picture-in-picture\" allowfullscreen></iframe>\n",
    "\n",
    "*[How to install Visual Studio Code and use it to run Python code](https://www.youtube.com/watch?v=1kKTYsQdaPw)*\n",
    "\n",
    "Once you have Visual Studio Code installed and opened, navigate to the 'extensions' tab on the left hand side vertical bar of icons (it's the one that looks like 4 squares). You'll need to install the [Python extension for VS Code](https://marketplace.visualstudio.com/items?itemName=ms-python.python), which you can search for by using the text box within VS Code's extensions panel.\n",
    "\n",
    "![A typical user view in Visual Studio Code](https://www.dropbox.com/s/9ktm109zf5ie0ao/VSC%20view.png?dl=0)\n",
    "\n",
    "The figure above shows the typical layout of Visual Studio Code. The long vertical panel on the far left-hand side changes what is seen in panels 1 and 2; it currently has the file explorer selected. Let's run through the numbered parts of the figure.\n",
    "\n",
    "1. When the explorer option is selected from the icons to the left of 1 and 2, the contents of the folder that's currently open are shown in 1.\n",
    "2. This is an outline of the key parts of the file that is open in 3.\n",
    "3. This is just a fancy text editor. In the figure above, it's showing a Python script (a file that contains code and has a name that ends in `.py`). Selecting code and pressing <kbd>Shift</kbd> + <kbd>Enter</kbd> ('Enter' is labelled as 'Return' on some keyboards) will execute that code in 5.\n",
    "4. This is the command line, a place where you can type in commands that your computer will then execute. If you want to try a command, type `date` (Mac/Linux) or `date /t` (Windows).\n",
    "5. This is the interactive Python window, which is where code and code outputs appear after you select and execute them from a script (see 3). It shows the code that you executed and any outputs from that execution-in the screenshot shown, the code has created a plot. The name and version of Python you're using appear at the top of the interactive window.\n",
    "\n",
    "Note that there is lots of useful information arrayed right at the bottom of the window in the blue bar, including the version of Python currently being used by VS Code.\n",
    "\n",
    "If you have installed the Anaconda distribution of Python, Visual Studio Code, and the Python extension for VS Code, then you are ready to run your first script!"
   ]
  },
  {
   "cell_type": "markdown",
   "metadata": {},
   "source": []
  }
 ],
 "metadata": {
  "language_info": {
   "name": "python"
  },
  "orig_nbformat": 4
 },
 "nbformat": 4,
 "nbformat_minor": 2
}
